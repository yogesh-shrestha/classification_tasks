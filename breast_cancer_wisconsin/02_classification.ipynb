{
 "cells": [
  {
   "cell_type": "markdown",
   "id": "fa354702",
   "metadata": {},
   "source": [
    "## Classification Using different Classification Algorithms"
   ]
  },
  {
   "cell_type": "markdown",
   "id": "e7edb0f0",
   "metadata": {},
   "source": [
    "### Load Data"
   ]
  },
  {
   "cell_type": "code",
   "execution_count": 1,
   "id": "d8de4cea",
   "metadata": {},
   "outputs": [],
   "source": [
    "import pandas as pd\n",
    "from sklearn.model_selection import StratifiedShuffleSplit\n",
    "\n",
    "# load data\n",
    "df = pd.read_csv('dataset/data_bc_scaled.csv')\n",
    "\n",
    "# Split features and Labels\n",
    "X = df.iloc[:, :-1]#.to_numpy()\n",
    "y = df.iloc[:, -1]#.to_numpy()\n",
    "\n",
    "# Stratified split in train set and test set\n",
    "sss = StratifiedShuffleSplit(n_splits=1, test_size=0.1, random_state=42)\n",
    "for train_index, test_index in sss.split(X,y):\n",
    "    X_train, X_test = X.loc[train_index], X.loc[test_index]\n",
    "    y_train, y_test = y.loc[train_index], y.loc[test_index]"
   ]
  },
  {
   "cell_type": "code",
   "execution_count": 2,
   "id": "a746d5cf",
   "metadata": {},
   "outputs": [],
   "source": [
    "def print_result(y_pred, y):\n",
    "    print(\"Accuracy Score: \", accuracy_score(y_pred, y_test))\n",
    "    print(\"Precision Score: \", precision_score(y_pred, y_test))\n",
    "    print(\"Recall Score: \", recall_score(y_pred, y_test))\n",
    "    print(\"Confusion Matrix: \\n\", confusion_matrix(y_pred, y_test))"
   ]
  },
  {
   "cell_type": "markdown",
   "id": "5ac1b025",
   "metadata": {},
   "source": [
    "### SGD Classifier"
   ]
  },
  {
   "cell_type": "code",
   "execution_count": 17,
   "id": "7d6c28f0",
   "metadata": {},
   "outputs": [
    {
     "name": "stdout",
     "output_type": "stream",
     "text": [
      "Accuracy Score:  0.9649122807017544\n",
      "Precision Score:  0.9523809523809523\n",
      "Recall Score:  0.9523809523809523\n",
      "Confusion Matrix: \n",
      " [[35  1]\n",
      " [ 1 20]]\n"
     ]
    }
   ],
   "source": [
    "from sklearn.linear_model import SGDClassifier\n",
    "from sklearn.metrics import accuracy_score, precision_score, recall_score, confusion_matrix\n",
    "from sklearn.model_selection import cross_val_predict\n",
    "\n",
    "# train classifier\n",
    "sgd_clf = SGDClassifier(random_state=42)\n",
    "sgd_clf.fit(X_train,y_train)\n",
    "y_pred = sgd_clf.predict(X_test)\n",
    "print_result(y_pred, y_test)\n"
   ]
  },
  {
   "cell_type": "markdown",
   "id": "feaca3cd",
   "metadata": {},
   "source": [
    "### Random Forest Classifier"
   ]
  },
  {
   "cell_type": "code",
   "execution_count": 18,
   "id": "ff61c74e",
   "metadata": {},
   "outputs": [
    {
     "name": "stdout",
     "output_type": "stream",
     "text": [
      "Accuracy Score:  1.0\n",
      "Precision Score:  1.0\n",
      "Recall Score:  1.0\n",
      "Confusion Matrix: \n",
      " [[36  0]\n",
      " [ 0 21]]\n"
     ]
    }
   ],
   "source": [
    "from sklearn.ensemble import RandomForestClassifier\n",
    "\n",
    "rf_clf = RandomForestClassifier(n_estimators=100)\n",
    "rf_clf.fit(X_train,y_train)\n",
    "y_pred = rf_clf.predict(X_test)\n",
    "print_result(y_pred, y_test)"
   ]
  },
  {
   "cell_type": "markdown",
   "id": "6689bb8f",
   "metadata": {},
   "source": [
    "### Support Vector Machine"
   ]
  },
  {
   "cell_type": "code",
   "execution_count": 19,
   "id": "bcddd3e5",
   "metadata": {},
   "outputs": [
    {
     "name": "stdout",
     "output_type": "stream",
     "text": [
      "Accuracy Score:  0.9824561403508771\n",
      "Precision Score:  0.9523809523809523\n",
      "Recall Score:  1.0\n",
      "Confusion Matrix: \n",
      " [[36  1]\n",
      " [ 0 20]]\n"
     ]
    }
   ],
   "source": [
    "from sklearn.svm import SVC\n",
    "\n",
    "svm_clf = SVC()\n",
    "svm_clf.fit(X_train,y_train)\n",
    "y_pred = svm_clf.predict(X_test)\n",
    "print_result(y_pred, y_test)"
   ]
  },
  {
   "cell_type": "markdown",
   "id": "090042e5",
   "metadata": {},
   "source": [
    "### Naive Bayes Classification"
   ]
  },
  {
   "cell_type": "code",
   "execution_count": 50,
   "id": "349909cc",
   "metadata": {},
   "outputs": [
    {
     "name": "stdout",
     "output_type": "stream",
     "text": [
      "Accuracy Score:  0.9298245614035088\n",
      "Precision Score:  0.9047619047619048\n",
      "Recall Score:  0.9047619047619048\n",
      "Confusion Matrix: \n",
      " [[34  2]\n",
      " [ 2 19]]\n"
     ]
    }
   ],
   "source": [
    "from sklearn.naive_bayes import GaussianNB\n",
    "\n",
    "gnb_clf = GaussianNB()\n",
    "gnb_clf.fit(X_train,y_train)\n",
    "y_pred = gnb_clf.predict(X_test)\n",
    "print_result(y_pred, y_test)"
   ]
  }
 ],
 "metadata": {
  "kernelspec": {
   "display_name": "Python 3",
   "language": "python",
   "name": "python3"
  },
  "language_info": {
   "codemirror_mode": {
    "name": "ipython",
    "version": 3
   },
   "file_extension": ".py",
   "mimetype": "text/x-python",
   "name": "python",
   "nbconvert_exporter": "python",
   "pygments_lexer": "ipython3",
   "version": "3.8.8"
  }
 },
 "nbformat": 4,
 "nbformat_minor": 5
}
