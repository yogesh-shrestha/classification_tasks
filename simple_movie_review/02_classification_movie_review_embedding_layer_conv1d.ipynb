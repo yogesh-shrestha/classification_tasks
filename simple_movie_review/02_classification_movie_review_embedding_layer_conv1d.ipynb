{
 "cells": [
  {
   "cell_type": "markdown",
   "metadata": {},
   "source": [
    "## Classification of Movie Reviews with a Embedding Layer and Convlutional Layer"
   ]
  },
  {
   "cell_type": "code",
   "execution_count": 1,
   "metadata": {},
   "outputs": [],
   "source": [
    "import pickle\n",
    "import tensorflow as tf\n",
    "from tensorflow import keras\n",
    "import numpy as np\n",
    "from tensorflow.keras.preprocessing.text import Tokenizer\n",
    "from tensorflow.keras.preprocessing.sequence import pad_sequences\n",
    "\n",
    "\n",
    "def load_dataset(filename):\n",
    "    return pickle.load(open(filename, 'rb'))\n",
    "\n",
    "def create_vocab(docs):\n",
    "    vocab = []\n",
    "    for doc in docs:\n",
    "        vocab.extend(doc)\n",
    "    return vocab\n",
    "    \n",
    "def create_tokenizer(docs):\n",
    "    tokenizer = Tokenizer()\n",
    "    tokenizer.fit_on_texts(docs)\n",
    "    return tokenizer\n",
    "\n",
    "def shuffle_data(X, y):\n",
    "    X, y = np.array(X), np.array(y)\n",
    "    X_y = np.concatenate((X, y[:, np.newaxis]), axis=1) \n",
    "    np.random.shuffle(X_y)\n",
    "    return X_y\n",
    "\n",
    "def encode_pad_documents(tokenizer,max_length, docs):\n",
    "    encoded_docs = tokenizer.texts_to_sequences(docs)\n",
    "    padded_docs = pad_sequences(encoded_docs, maxlen=max_length, padding='post')\n",
    "    return padded_docs\n",
    "\n",
    "def define_model(vocab_size, max_length):\n",
    "    model = tf.keras.models.Sequential([\n",
    "        tf.keras.layers.Embedding(vocab_size, 100, input_length=max_length),\n",
    "        tf.keras.layers.Conv1D(filters=32, kernel_size=8, activation='relu'),\n",
    "        tf.keras.layers.MaxPooling1D(pool_size=2),\n",
    "        tf.keras.layers.Flatten(),\n",
    "        tf.keras.layers.Dense(10, activation='relu'),\n",
    "        tf.keras.layers.Dense(1, activation='sigmoid'),\n",
    "    ])\n",
    "    model.compile(loss='binary_crossentropy', optimizer = 'adam', metrics=[\"accuracy\"])\n",
    "    return model\n"
   ]
  },
  {
   "cell_type": "code",
   "execution_count": 4,
   "metadata": {},
   "outputs": [
    {
     "name": "stdout",
     "output_type": "stream",
     "text": [
      "Epoch 1/10\n",
      "54/54 [==============================] - 11s 189ms/step - loss: 0.6945 - accuracy: 0.5302 - val_loss: 0.6991 - val_accuracy: 0.4900\n",
      "Epoch 2/10\n",
      "54/54 [==============================] - 10s 194ms/step - loss: 0.6331 - accuracy: 0.6466 - val_loss: 0.5611 - val_accuracy: 0.7100\n",
      "Epoch 3/10\n",
      "54/54 [==============================] - 10s 188ms/step - loss: 0.1927 - accuracy: 0.9580 - val_loss: 0.3065 - val_accuracy: 0.8900\n",
      "Epoch 4/10\n",
      "54/54 [==============================] - 12s 219ms/step - loss: 0.0056 - accuracy: 1.0000 - val_loss: 0.3350 - val_accuracy: 0.8900\n",
      "Epoch 5/10\n",
      "54/54 [==============================] - 10s 193ms/step - loss: 0.0020 - accuracy: 1.0000 - val_loss: 0.3108 - val_accuracy: 0.8800\n",
      "Epoch 6/10\n",
      "54/54 [==============================] - 10s 191ms/step - loss: 0.0016 - accuracy: 1.0000 - val_loss: 0.3197 - val_accuracy: 0.8800\n",
      "Epoch 7/10\n",
      "54/54 [==============================] - 10s 192ms/step - loss: 0.0015 - accuracy: 1.0000 - val_loss: 0.3240 - val_accuracy: 0.8900\n",
      "Epoch 8/10\n",
      "54/54 [==============================] - 11s 196ms/step - loss: 5.7789e-04 - accuracy: 1.0000 - val_loss: 0.3288 - val_accuracy: 0.8900\n",
      "Epoch 9/10\n",
      "54/54 [==============================] - 11s 199ms/step - loss: 5.0119e-04 - accuracy: 1.0000 - val_loss: 0.3358 - val_accuracy: 0.8900\n",
      "Epoch 10/10\n",
      "54/54 [==============================] - 11s 206ms/step - loss: 4.4449e-04 - accuracy: 1.0000 - val_loss: 0.3406 - val_accuracy: 0.8900\n",
      "7/7 [==============================] - 0s 29ms/step - loss: 0.4034 - accuracy: 0.8700\n",
      "[0.40335407853126526, 0.8700000047683716]\n"
     ]
    }
   ],
   "source": [
    "# load the train and test sets\n",
    "X_train, y_train = load_dataset('movie_reviews_train.pkl')\n",
    "X_test, y_test = load_dataset('movie_reviews_test.pkl')\n",
    "X = X_train + X_test\n",
    "\n",
    "#Create tokenizer\n",
    "tokenizer = create_tokenizer(X)\n",
    "vocab_size = len(tokenizer.word_index) + 1\n",
    "max_length = max([len(doc) for doc in X])\n",
    "\n",
    "# encoding to padded document\n",
    "X_train = encode_pad_documents(tokenizer, max_length, X_train)\n",
    "X_test = encode_pad_documents(tokenizer, max_length, X_test)\n",
    "\n",
    "# Shuffle data\n",
    "train = shuffle_data(X_train, y_train)\n",
    "test = shuffle_data(X_test, y_test)\n",
    "\n",
    "# split train set into train and valid set\n",
    "train, valid = train[:1700], train[1700:]\n",
    "X_train, y_train = train[:, :-1], train[:, -1:]\n",
    "X_valid, y_valid = valid[:, :-1], valid[:, -1:]\n",
    "X_test, y_test = test[:, :-1], test[:, -1:]\n",
    "\n",
    "# train model and evaluate\n",
    "model = define_model(vocab_size, max_length)\n",
    "model.fit(X_train, y_train, \n",
    "            epochs=10, \n",
    "            verbose=1, \n",
    "            validation_data=(X_valid, y_valid), \n",
    "            )\n",
    "model.save('model_movie_review_embedding_cnn.h5')\n",
    "print(model.evaluate(X_test, y_test))\n"
   ]
  }
 ],
 "metadata": {
  "kernelspec": {
   "display_name": "Python 3",
   "language": "python",
   "name": "python3"
  },
  "language_info": {
   "codemirror_mode": {
    "name": "ipython",
    "version": 3
   },
   "file_extension": ".py",
   "mimetype": "text/x-python",
   "name": "python",
   "nbconvert_exporter": "python",
   "pygments_lexer": "ipython3",
   "version": "3.8.5"
  }
 },
 "nbformat": 4,
 "nbformat_minor": 4
}
